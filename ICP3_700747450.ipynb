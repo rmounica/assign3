{
  "nbformat": 4,
  "nbformat_minor": 0,
  "metadata": {
    "colab": {
      "provenance": [],
      "authorship_tag": "ABX9TyP+IU9o/tQXioC+shnCCxzh",
      "include_colab_link": true
    },
    "kernelspec": {
      "name": "python3",
      "display_name": "Python 3"
    },
    "language_info": {
      "name": "python"
    }
  },
  "cells": [
    {
      "cell_type": "markdown",
      "metadata": {
        "id": "view-in-github",
        "colab_type": "text"
      },
      "source": [
        "<a href=\"https://colab.research.google.com/github/rmounica/assign3/blob/main/ICP3_700747450.ipynb\" target=\"_parent\"><img src=\"https://colab.research.google.com/assets/colab-badge.svg\" alt=\"Open In Colab\"/></a>"
      ]
    },
    {
      "cell_type": "code",
      "source": [
        "class Employee:\n",
        "    employee_count = 0\n",
        "\n",
        "    def __init__(self, name, family, salary, department):\n",
        "        self.name = name\n",
        "        self.family = family\n",
        "        self.salary = salary\n",
        "        self.department = department\n",
        "        Employee.employee_count += 1\n",
        "\n",
        "    def average_salary(self, *salaries):\n",
        "        total_salary = sum(salaries) + self.salary\n",
        "        num_employees = len(salaries) + 1  # Add 1 for the current employee\n",
        "        return total_salary / num_employees\n",
        "\n",
        "\n",
        "class FulltimeEmployee(Employee):\n",
        "    def __init__(self, name, family, salary, department, hours_worked):\n",
        "        super().__init__(name, family, salary, department)\n",
        "        self.hours_worked = hours_worked\n",
        "\n",
        "\n",
        "employee1 = Employee(\"Ruchita\", \"Surakanti\", 50000, \"HR\")\n",
        "employee2 = Employee(\"Anusha\", \"Belli\", 60000, \"IT\")\n",
        "fulltime_employee = FulltimeEmployee(\"Vikram\", \"Kumar\", 70000, \"Finance\", 40)\n",
        "\n",
        "average_salary_all = employee1.average_salary(employee2.salary)\n",
        "average_salary_fulltime = fulltime_employee.average_salary()\n",
        "\n",
        "print(f\"Total number of employees: {Employee.employee_count}\")\n",
        "print(f\"Average salary of all employees: {average_salary_all}\")\n",
        "print(f\"Average salary of full-time employee: {average_salary_fulltime}\")\n"
      ],
      "metadata": {
        "colab": {
          "base_uri": "https://localhost:8080/"
        },
        "id": "Mc3_33fsFE9A",
        "outputId": "665e9b61-bbbe-42c3-d200-6408a48521d8"
      },
      "execution_count": 10,
      "outputs": [
        {
          "output_type": "stream",
          "name": "stdout",
          "text": [
            "Total number of employees: 3\n",
            "Average salary of all employees: 55000.0\n",
            "Average salary of full-time employee: 70000.0\n"
          ]
        }
      ]
    },
    {
      "cell_type": "code",
      "source": [
        "import numpy as np\n",
        "\n",
        "# Create a random vector of size 20 with floats in the range 1-20\n",
        "random_vector = np.random.uniform(1, 20, 20)\n",
        "\n",
        "# Reshape the array to 4 by 5\n",
        "reshaped_array = random_vector.reshape(4, 5)\n",
        "\n",
        "# Replace the max in each row by 0 (along axis=1)\n",
        "reshaped_array[np.arange(4), reshaped_array.argmax(axis=1)] = 0\n",
        "\n",
        "print(\"Original array:\")\n",
        "print(random_vector)\n",
        "print(\"\\nReshaped array:\")\n",
        "print(reshaped_array)"
      ],
      "metadata": {
        "colab": {
          "base_uri": "https://localhost:8080/"
        },
        "id": "MOZB85qR9Zwv",
        "outputId": "bb797db6-e23b-41cb-ad63-40e448bc88d7"
      },
      "execution_count": 5,
      "outputs": [
        {
          "output_type": "stream",
          "name": "stdout",
          "text": [
            "Original array:\n",
            "[ 2.52368182  8.62754704 14.18475229  0.         12.27848774 12.18988112\n",
            "  1.35281127  0.          6.91908446  4.0960859  12.21568953  6.28854527\n",
            "  0.         12.8987857   7.12132097  8.83781131  0.         14.23662152\n",
            "  7.54803378 15.86854668]\n",
            "\n",
            "Reshaped array:\n",
            "[[ 2.52368182  8.62754704 14.18475229  0.         12.27848774]\n",
            " [12.18988112  1.35281127  0.          6.91908446  4.0960859 ]\n",
            " [12.21568953  6.28854527  0.         12.8987857   7.12132097]\n",
            " [ 8.83781131  0.         14.23662152  7.54803378 15.86854668]]\n"
          ]
        }
      ]
    }
  ]
}